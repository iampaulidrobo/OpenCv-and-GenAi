{
 "cells": [
  {
   "cell_type": "markdown",
   "metadata": {},
   "source": [
    "# Create a Custom Dataset Class for Image Data"
   ]
  },
  {
   "cell_type": "code",
   "execution_count": 3,
   "metadata": {
    "executionInfo": {
     "elapsed": 4601,
     "status": "ok",
     "timestamp": 1726766890704,
     "user": {
      "displayName": "nimoy",
      "userId": "12145814232676261569"
     },
     "user_tz": -330
    },
    "id": "jXMd8PPhFWxv"
   },
   "outputs": [],
   "source": [
    "import torch\n",
    "from torch.utils.data import Dataset, DataLoader\n",
    "import pandas as pd\n",
    "from sklearn.model_selection import train_test_split\n",
    "from sklearn.preprocessing import StandardScaler\n",
    "from torchvision import datasets, transforms\n",
    "from PIL import Image\n"
   ]
  },
  {
   "cell_type": "code",
   "execution_count": null,
   "metadata": {},
   "outputs": [],
   "source": [
    "class ImageDataset(Dataset):\n",
    "    def __init__(self, image_dir, transform=None):\n",
    "        self.image_dir = image_dir\n",
    "        self.transform = transform\n",
    "        self.image_paths = []  # Store image file paths\n",
    "        self.labels = []  # Store image labels\n",
    "\n",
    "        # Load all image paths and their corresponding labels (class folder names)\n",
    "        for label, class_dir in enumerate(os.listdir(image_dir)):  # Each folder is a class\n",
    "            class_path = os.path.join(image_dir, class_dir)\n",
    "            for img_name in os.listdir(class_path):\n",
    "                self.image_paths.append(os.path.join(class_path, img_name))\n",
    "                self.labels.append(label)\n",
    "\n",
    "    def __len__(self):\n",
    "        return len(self.image_paths)  # Returns the total number of images\n",
    "\n",
    "    def __getitem__(self, idx):\n",
    "        img_path = self.image_paths[idx]\n",
    "        image = Image.open(img_path).convert(\"RGB\")  # Load image and convert to RGB\n",
    "        label = self.labels[idx]\n",
    "\n",
    "        if self.transform:\n",
    "            image = self.transform(image)\n",
    "\n",
    "        return image, label\n"
   ]
  },
  {
   "cell_type": "code",
   "execution_count": null,
   "metadata": {},
   "outputs": [],
   "source": [
    "transform = transforms.Compose([\n",
    "    transforms.Resize((128, 128)),  # Resize images to 128x128\n",
    "    transforms.ToTensor(),  # Convert to tensor\n",
    "    transforms.Normalize(mean=[0.485, 0.456, 0.406], std=[0.229, 0.224, 0.225])  # Normalize\n",
    "])"
   ]
  },
  {
   "cell_type": "code",
   "execution_count": null,
   "metadata": {},
   "outputs": [],
   "source": [
    "# Paths to the image datasets\n",
    "train_image_dir = 'path/to/train'\n",
    "val_image_dir = 'path/to/val'\n",
    "test_image_dir = 'path/to/test'\n",
    "\n",
    "# Create datasets\n",
    "train_image_dataset = ImageDataset(image_dir=train_image_dir, transform=transform)\n",
    "val_image_dataset = ImageDataset(image_dir=val_image_dir, transform=transform)\n",
    "test_image_dataset = ImageDataset(image_dir=test_image_dir, transform=transform)\n",
    "\n",
    "# Create DataLoaders\n",
    "train_image_loader = DataLoader(dataset=train_image_dataset, batch_size=32, shuffle=True)\n",
    "val_image_loader = DataLoader(dataset=val_image_dataset, batch_size=32, shuffle=False)\n",
    "test_image_loader = DataLoader(dataset=test_image_dataset, batch_size=32, shuffle=False)\n",
    "\n",
    "# Example: Iterating through batches of the train_image_loader\n",
    "for images, labels in train_image_loader:\n",
    "    print(images.shape, labels.shape)\n"
   ]
  },
  {
   "cell_type": "code",
   "execution_count": null,
   "metadata": {},
   "outputs": [],
   "source": [
    "import os\n",
    "print(os.listdir(\"/content/sample_data\"))\n",
    "\n",
    "for idx, file_name in enumerate(os.listdir(\"/content/sample_data\")):\n",
    "  print(idx, file_name)\n",
    "  print(os.path.join(\"/content/sample_data\", file_name))"
   ]
  }
 ],
 "metadata": {
  "colab": {
   "authorship_tag": "ABX9TyNp8r+S7R8GhSTXM1VuHJYl",
   "provenance": []
  },
  "kernelspec": {
   "display_name": "Python 3",
   "name": "python3"
  },
  "language_info": {
   "name": "python"
  }
 },
 "nbformat": 4,
 "nbformat_minor": 0
}
